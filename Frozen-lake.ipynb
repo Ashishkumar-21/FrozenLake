{
 "cells": [
  {
   "cell_type": "code",
   "execution_count": 2,
   "id": "f3a388a1",
   "metadata": {},
   "outputs": [],
   "source": [
    "import numpy as np\n",
    "import gym as gym\n",
    "import random\n",
    "import time\n",
    "from IPython.display import clear_output"
   ]
  },
  {
   "cell_type": "code",
   "execution_count": 161,
   "id": "7a4883e2",
   "metadata": {},
   "outputs": [],
   "source": [
    "env = gym.make(\"FrozenLake-v1\")\n",
    "\n",
    "env = gym.make(\"FrozenLake-v1\", map_name=\"4x4\",render_mode='ansi')"
   ]
  },
  {
   "cell_type": "code",
   "execution_count": 134,
   "id": "4239197b",
   "metadata": {},
   "outputs": [],
   "source": [
    "action_space_size = env.action_space.n\n",
    "state_space_size = env.observation_space.n\n",
    "q_table = np.zeros((state_space_size , action_space_size))"
   ]
  },
  {
   "cell_type": "code",
   "execution_count": 135,
   "id": "caa392e7",
   "metadata": {},
   "outputs": [
    {
     "name": "stdout",
     "output_type": "stream",
     "text": [
      "[[0. 0. 0. 0.]\n",
      " [0. 0. 0. 0.]\n",
      " [0. 0. 0. 0.]\n",
      " [0. 0. 0. 0.]\n",
      " [0. 0. 0. 0.]\n",
      " [0. 0. 0. 0.]\n",
      " [0. 0. 0. 0.]\n",
      " [0. 0. 0. 0.]\n",
      " [0. 0. 0. 0.]\n",
      " [0. 0. 0. 0.]\n",
      " [0. 0. 0. 0.]\n",
      " [0. 0. 0. 0.]\n",
      " [0. 0. 0. 0.]\n",
      " [0. 0. 0. 0.]\n",
      " [0. 0. 0. 0.]\n",
      " [0. 0. 0. 0.]]\n"
     ]
    }
   ],
   "source": [
    "print(q_table)"
   ]
  },
  {
   "cell_type": "code",
   "execution_count": 170,
   "id": "a8c187ea",
   "metadata": {},
   "outputs": [],
   "source": [
    "num_episodes = 10000\n",
    "max_steps_per_episode = 100\n",
    "\n",
    "learning_rate = 0.1\n",
    "discount_rate = 0.99\n",
    "\n",
    "exploration_rate = 1\n",
    "max_exploration_rate = 1\n",
    "min_exploration_rate = 0.001\n",
    "exploration_decay_rate = 0.001 "
   ]
  },
  {
   "cell_type": "code",
   "execution_count": 171,
   "id": "7630918e",
   "metadata": {},
   "outputs": [
    {
     "name": "stdout",
     "output_type": "stream",
     "text": [
      "***********Average reward per thousnad episodes***********\n",
      "\n",
      "10000 :  0.05600000000000004\n",
      "11000 :  0.20600000000000016\n",
      "12000 :  0.3990000000000003\n",
      "13000 :  0.6150000000000004\n",
      "14000 :  0.6970000000000005\n",
      "15000 :  0.6950000000000005\n",
      "16000 :  0.7470000000000006\n",
      "17000 :  0.7400000000000005\n",
      "18000 :  0.7140000000000005\n",
      "19000 :  0.7610000000000006\n",
      "\n",
      "\n",
      "**********Q-Tabele**********\n",
      "\n",
      "[[0.58411175 0.51590712 0.51205686 0.50681254]\n",
      " [0.29643925 0.44633576 0.35409105 0.54209909]\n",
      " [0.41755447 0.42164003 0.40254922 0.50494597]\n",
      " [0.32038179 0.33738511 0.30353874 0.48483692]\n",
      " [0.6054752  0.41153038 0.33938564 0.42467797]\n",
      " [0.         0.         0.         0.        ]\n",
      " [0.3428869  0.17185554 0.17338668 0.10731726]\n",
      " [0.         0.         0.         0.        ]\n",
      " [0.29572402 0.3833905  0.3531403  0.66597822]\n",
      " [0.53212891 0.72350646 0.45753883 0.38754528]\n",
      " [0.6844191  0.34706554 0.28480146 0.38783623]\n",
      " [0.         0.         0.         0.        ]\n",
      " [0.         0.         0.         0.        ]\n",
      " [0.45972525 0.56204008 0.82089578 0.48348371]\n",
      " [0.74383027 0.90714538 0.75770396 0.70949274]\n",
      " [0.         0.         0.         0.        ]]\n"
     ]
    }
   ],
   "source": [
    "rewards_all_episode = []\n",
    "\n",
    "#Q-Learning algo\n",
    "\n",
    "for episode in range(num_episodes):\n",
    "    state = env.reset()[0]\n",
    "    \n",
    "    done = False\n",
    "    rewards_current_episode = 0\n",
    "    \n",
    "    for step in range(max_steps_per_episode):\n",
    "        \n",
    "    \n",
    "        #Exploration-explitation trade-off\n",
    "        exploration_rate_threshold = random.uniform(0,1)\n",
    "        if exploration_rate_threshold > exploration_rate:\n",
    "            action = np.argmax(q_table[state,:])\n",
    "        else:\n",
    "            action = env.action_space.sample()\n",
    "            \n",
    "        new_state, reward, done, truncated, info = env.step(action)\n",
    "           \n",
    "        #update Q-table for (s,a)\n",
    "        q_table[state, action] = q_table[state, action] * (1 - learning_rate) + learning_rate * (reward + discount_rate * np.max(q_table[new_state, :]))\n",
    "        \n",
    "        state = new_state\n",
    "        rewards_current_episode += reward\n",
    "        \n",
    "        if done == True:\n",
    "            break\n",
    "    \n",
    "    #Exploration rate decay\n",
    "    exploration_rate = min_exploration_rate + (max_exploration_rate - min_exploration_rate) * np.exp(-exploration_decay_rate*episode)\n",
    "    \n",
    "    rewards_all_episode.append(rewards_current_episode)\n",
    "\n",
    "#Calculate and print the average reward per thousand episodes\n",
    "rewards_per_thousand_episodes = np.split(np.array(rewards_all_episode),num_episodes/1000)\n",
    "count = 10000\n",
    "print(\"***********Average reward per thousnad episodes***********\\n\")\n",
    "for r in rewards_per_thousand_episodes:\n",
    "    print(count, \": \", str(sum(r/1000)))\n",
    "    count+=1000\n",
    "    \n",
    "#Print updatetd Q table\n",
    "print(\"\\n\\n**********Q-Tabele**********\\n\")\n",
    "print(q_table)"
   ]
  },
  {
   "cell_type": "code",
   "execution_count": 157,
   "id": "24a333d3",
   "metadata": {},
   "outputs": [
    {
     "name": "stdout",
     "output_type": "stream",
     "text": [
      "****You reached the goal!****\n"
     ]
    }
   ],
   "source": [
    "# Watch our agent play Frozen Lake by playing the best action \n",
    "# from each state according to the Q-table\n",
    "\n",
    "for episode in range(3):\n",
    "    # initialize new episode params\n",
    "    state = env.reset()[0]\n",
    "    done = False\n",
    "    print(\"*****EPISODE \", episode+1, \"*****\\n\\n\\n\\n\")\n",
    "    time.sleep(1)\n",
    "\n",
    "    for step in range(max_steps_per_episode):        \n",
    "        # Show current state of environment on screen\n",
    "        clear_output(wait=True)\n",
    "        env.render()\n",
    "        time.sleep(0.3)\n",
    "        \n",
    "        # Choose action with highest Q-value for current state       \n",
    "        action = np.argmax(q_table[state,:])\n",
    "        new_state, reward, done, truncated, info = env.step(action)\n",
    "        \n",
    "        # Take new action\n",
    "\n",
    "        if done:\n",
    "            clear_output(wait=True)\n",
    "            env.render()\n",
    "            if reward == 1:\n",
    "                # Agent reached the goal and won episode\n",
    "                print(\"****You reached the goal!****\")\n",
    "                time.sleep(3)\n",
    "            else:\n",
    "                # Agent stepped in a hole and lost episode \n",
    "                print(\"****You fell through a hole!****\")\n",
    "                time.sleep(3)\n",
    "            clear_output(wait=True)\n",
    "            break\n",
    "\n",
    "        # Set new state\n",
    "        state=new_state\n",
    "\n",
    "env.close()"
   ]
  },
  {
   "cell_type": "code",
   "execution_count": null,
   "id": "d86b79af",
   "metadata": {},
   "outputs": [],
   "source": []
  },
  {
   "cell_type": "code",
   "execution_count": null,
   "id": "d2434457",
   "metadata": {},
   "outputs": [],
   "source": []
  },
  {
   "cell_type": "code",
   "execution_count": null,
   "id": "be4e4429",
   "metadata": {},
   "outputs": [],
   "source": []
  }
 ],
 "metadata": {
  "kernelspec": {
   "display_name": "Python 3 (ipykernel)",
   "language": "python",
   "name": "python3"
  },
  "language_info": {
   "codemirror_mode": {
    "name": "ipython",
    "version": 3
   },
   "file_extension": ".py",
   "mimetype": "text/x-python",
   "name": "python",
   "nbconvert_exporter": "python",
   "pygments_lexer": "ipython3",
   "version": "3.10.9"
  }
 },
 "nbformat": 4,
 "nbformat_minor": 5
}
